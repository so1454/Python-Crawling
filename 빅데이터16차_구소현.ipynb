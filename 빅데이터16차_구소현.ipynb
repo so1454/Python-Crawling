{
 "cells": [
  {
   "attachments": {},
   "cell_type": "markdown",
   "metadata": {},
   "source": [
    "## Question1"
   ]
  },
  {
   "attachments": {},
   "cell_type": "markdown",
   "metadata": {},
   "source": [
    "문제1. \n",
    "1 - a<br>\n",
    "2 - b<br>\n",
    "3 - c<br>\n",
    "4 - h\n"
   ]
  },
  {
   "attachments": {},
   "cell_type": "markdown",
   "metadata": {},
   "source": [
    "문제2.\n",
    "크롤링은 웹에 있는 데이터를 모으는 방법을 말하는 것이다.<br>\n",
    "웹페이지를 수집해서 분류하고 저장하는 것이다."
   ]
  },
  {
   "attachments": {},
   "cell_type": "markdown",
   "metadata": {},
   "source": [
    "문제3.\n",
    "BeautifulSoup이란<br>\n",
    "HTML문서에서 원하는 데이터를 추출하기 쉽게 해주는 라이브러리"
   ]
  },
  {
   "attachments": {},
   "cell_type": "markdown",
   "metadata": {},
   "source": [
    "문제4.\n",
    "1,2는 특정 요소를 접근하는 함수이다.\n",
    "1은 한개의 요소만 찾아오는 것이고,\n",
    "2는 여러개의 요소를 찾아오는 것이다."
   ]
  },
  {
   "attachments": {},
   "cell_type": "markdown",
   "metadata": {},
   "source": [
    "문제5.\n",
    "import BeautifulSoup as bs\n",
    "\n",
    "html = bs(res.text, 'lxml')\n",
    "html.select('div > p > a')"
   ]
  },
  {
   "attachments": {},
   "cell_type": "markdown",
   "metadata": {},
   "source": [
    "## Question2"
   ]
  },
  {
   "cell_type": "code",
   "execution_count": 3,
   "metadata": {},
   "outputs": [],
   "source": [
    "from selenium import webdriver as wb\n",
    "from selenium.webdriver.common.by import By\n",
    "from selenium.webdriver.common.keys import Keys"
   ]
  },
  {
   "cell_type": "code",
   "execution_count": 4,
   "metadata": {},
   "outputs": [],
   "source": [
    "\n",
    "naver_url = 'http://www.naver.com'\n",
    "driver = wb.Chrome()\n",
    "driver.get(naver_url)"
   ]
  },
  {
   "cell_type": "code",
   "execution_count": 5,
   "metadata": {},
   "outputs": [],
   "source": [
    "driver.find_element(by ='id' ,value = 'query' ).send_keys('크롤링\\n')\n"
   ]
  },
  {
   "attachments": {},
   "cell_type": "markdown",
   "metadata": {},
   "source": [
    "## Question3"
   ]
  },
  {
   "cell_type": "code",
   "execution_count": 16,
   "metadata": {},
   "outputs": [],
   "source": [
    "import pandas as pd  \n",
    "\n",
    "from selenium import webdriver as wb\n",
    "from selenium.webdriver.common.by import By\n",
    "from selenium.webdriver.common.keys import Keys"
   ]
  },
  {
   "cell_type": "code",
   "execution_count": 7,
   "metadata": {},
   "outputs": [],
   "source": [
    "market_url = 'https://corners.gmarket.co.kr/bestsellers'\n",
    "driver = wb.Chrome()\n",
    "driver.get(market_url)"
   ]
  },
  {
   "cell_type": "code",
   "execution_count": 8,
   "metadata": {},
   "outputs": [
    {
     "data": {
      "text/plain": [
       "200"
      ]
     },
     "execution_count": 8,
     "metadata": {},
     "output_type": "execute_result"
    }
   ],
   "source": [
    "nameList = driver.find_elements(By.CSS_SELECTOR,'.itemname')\n",
    "len(nameList)"
   ]
  },
  {
   "cell_type": "code",
   "execution_count": 9,
   "metadata": {},
   "outputs": [
    {
     "data": {
      "text/plain": [
       "200"
      ]
     },
     "execution_count": 9,
     "metadata": {},
     "output_type": "execute_result"
    }
   ],
   "source": [
    "priceList = driver.find_elements(By.CSS_SELECTOR,'.for-a11y+strong > span')\n",
    "len(priceList)"
   ]
  },
  {
   "cell_type": "code",
   "execution_count": 19,
   "metadata": {},
   "outputs": [
    {
     "data": {
      "text/html": [
       "<div>\n",
       "<style scoped>\n",
       "    .dataframe tbody tr th:only-of-type {\n",
       "        vertical-align: middle;\n",
       "    }\n",
       "\n",
       "    .dataframe tbody tr th {\n",
       "        vertical-align: top;\n",
       "    }\n",
       "\n",
       "    .dataframe thead th {\n",
       "        text-align: right;\n",
       "    }\n",
       "</style>\n",
       "<table border=\"1\" class=\"dataframe\">\n",
       "  <thead>\n",
       "    <tr style=\"text-align: right;\">\n",
       "      <th></th>\n",
       "      <th>상품명</th>\n",
       "      <th>가격</th>\n",
       "    </tr>\n",
       "  </thead>\n",
       "  <tbody>\n",
       "    <tr>\n",
       "      <th>0</th>\n",
       "      <td>[블랙야크키즈](신세계강남점)23년 SS 미리 준비하는 쿨세트 2종 택1 [BKO홀...</td>\n",
       "      <td>28,000</td>\n",
       "    </tr>\n",
       "    <tr>\n",
       "      <th>1</th>\n",
       "      <td>메이크업 화장품 파우치/미니백/이너백/여행용</td>\n",
       "      <td>7,900</td>\n",
       "    </tr>\n",
       "    <tr>\n",
       "      <th>2</th>\n",
       "      <td>[네파키즈](신세계강남점)[네파키즈] 델타 7부 폴리트레이닝세트 KID5910</td>\n",
       "      <td>27,600</td>\n",
       "    </tr>\n",
       "    <tr>\n",
       "      <th>3</th>\n",
       "      <td>HACCP인증 국산100% 전라도 파김치 1kg(당일생산)</td>\n",
       "      <td>12,500</td>\n",
       "    </tr>\n",
       "    <tr>\n",
       "      <th>4</th>\n",
       "      <td>[네추럴블라썸](쿠폰적용가 25110원~)네추럴블라썸 울트라슬림 비건기저귀 4팩 (...</td>\n",
       "      <td>32,900</td>\n",
       "    </tr>\n",
       "    <tr>\n",
       "      <th>5</th>\n",
       "      <td>[버블트리]20% 주니어 여아 봄신상 스쿨룩 상하세트 팬츠 맨투맨 원피스 레깅스 데...</td>\n",
       "      <td>15,000</td>\n",
       "    </tr>\n",
       "    <tr>\n",
       "      <th>6</th>\n",
       "      <td>[코디](쿠폰적용가28400) 블루 3겹 데코 27m 30롤 3팩</td>\n",
       "      <td>36,200</td>\n",
       "    </tr>\n",
       "    <tr>\n",
       "      <th>7</th>\n",
       "      <td>제이준 세트 - 진정보습 물광 마스크팩 50매</td>\n",
       "      <td>23,900</td>\n",
       "    </tr>\n",
       "    <tr>\n",
       "      <th>8</th>\n",
       "      <td>제주 천혜향 새콤달콤 4kg 중소과 (가정용 포장)</td>\n",
       "      <td>24,900</td>\n",
       "    </tr>\n",
       "    <tr>\n",
       "      <th>9</th>\n",
       "      <td>해남 못난이 꿀고구마 10kg(2022수확)</td>\n",
       "      <td>10,680</td>\n",
       "    </tr>\n",
       "    <tr>\n",
       "      <th>10</th>\n",
       "      <td>하이마블 내맘대로 골라먹는 구이용 프리미엄 소고기 모둠 미국산 소고기</td>\n",
       "      <td>29,900</td>\n",
       "    </tr>\n",
       "    <tr>\n",
       "      <th>11</th>\n",
       "      <td>농협우리쌀20kg</td>\n",
       "      <td>39,840</td>\n",
       "    </tr>\n",
       "    <tr>\n",
       "      <th>12</th>\n",
       "      <td>[스카이패션][무료배송 3장드림] 순면 베이직 티셔츠</td>\n",
       "      <td>7,950</td>\n",
       "    </tr>\n",
       "    <tr>\n",
       "      <th>13</th>\n",
       "      <td>[키즈꼬모]아동상하복세트 2023봄신상품 봄맞이 할인전 아동복 등원복</td>\n",
       "      <td>12,400</td>\n",
       "    </tr>\n",
       "    <tr>\n",
       "      <th>14</th>\n",
       "      <td>[에스티코]STCO 넥타이 9900원 균일가 50종 모음</td>\n",
       "      <td>9,900</td>\n",
       "    </tr>\n",
       "    <tr>\n",
       "      <th>15</th>\n",
       "      <td>김규흔 한과 견과류바 에너지바 영양바 하루한끼 영양바 40개입</td>\n",
       "      <td>28,900</td>\n",
       "    </tr>\n",
       "    <tr>\n",
       "      <th>16</th>\n",
       "      <td>모짜치즈떡 1kg +1kg (쿠폰가 9980원)</td>\n",
       "      <td>11,250</td>\n",
       "    </tr>\n",
       "    <tr>\n",
       "      <th>17</th>\n",
       "      <td>리치부어스트 1.5kg 1개</td>\n",
       "      <td>21,500</td>\n",
       "    </tr>\n",
       "    <tr>\n",
       "      <th>18</th>\n",
       "      <td>[베지톨로지]베지톨로지 비니페린 워터 에센스 150ML x 2개 / 마스크팩 1매 ...</td>\n",
       "      <td>21,000</td>\n",
       "    </tr>\n",
       "    <tr>\n",
       "      <th>19</th>\n",
       "      <td>[구글플레이]기프트코드 10만원 / 구글 기프트카드</td>\n",
       "      <td>95,000</td>\n",
       "    </tr>\n",
       "  </tbody>\n",
       "</table>\n",
       "</div>"
      ],
      "text/plain": [
       "                                                  상품명      가격\n",
       "0   [블랙야크키즈](신세계강남점)23년 SS 미리 준비하는 쿨세트 2종 택1 [BKO홀...  28,000\n",
       "1                            메이크업 화장품 파우치/미니백/이너백/여행용   7,900\n",
       "2         [네파키즈](신세계강남점)[네파키즈] 델타 7부 폴리트레이닝세트 KID5910  27,600\n",
       "3                    HACCP인증 국산100% 전라도 파김치 1kg(당일생산)  12,500\n",
       "4   [네추럴블라썸](쿠폰적용가 25110원~)네추럴블라썸 울트라슬림 비건기저귀 4팩 (...  32,900\n",
       "5   [버블트리]20% 주니어 여아 봄신상 스쿨룩 상하세트 팬츠 맨투맨 원피스 레깅스 데...  15,000\n",
       "6                [코디](쿠폰적용가28400) 블루 3겹 데코 27m 30롤 3팩  36,200\n",
       "7                           제이준 세트 - 진정보습 물광 마스크팩 50매  23,900\n",
       "8                        제주 천혜향 새콤달콤 4kg 중소과 (가정용 포장)  24,900\n",
       "9                            해남 못난이 꿀고구마 10kg(2022수확)  10,680\n",
       "10             하이마블 내맘대로 골라먹는 구이용 프리미엄 소고기 모둠 미국산 소고기  29,900\n",
       "11                                          농협우리쌀20kg  39,840\n",
       "12                      [스카이패션][무료배송 3장드림] 순면 베이직 티셔츠   7,950\n",
       "13             [키즈꼬모]아동상하복세트 2023봄신상품 봄맞이 할인전 아동복 등원복  12,400\n",
       "14                    [에스티코]STCO 넥타이 9900원 균일가 50종 모음   9,900\n",
       "15                 김규흔 한과 견과류바 에너지바 영양바 하루한끼 영양바 40개입  28,900\n",
       "16                         모짜치즈떡 1kg +1kg (쿠폰가 9980원)  11,250\n",
       "17                                    리치부어스트 1.5kg 1개  21,500\n",
       "18  [베지톨로지]베지톨로지 비니페린 워터 에센스 150ML x 2개 / 마스크팩 1매 ...  21,000\n",
       "19                       [구글플레이]기프트코드 10만원 / 구글 기프트카드  95,000"
      ]
     },
     "execution_count": 19,
     "metadata": {},
     "output_type": "execute_result"
    }
   ],
   "source": [
    "name = []\n",
    "price = []\n",
    "\n",
    "# for i in range(len(menuList)) :\n",
    "#     print(menuList[i].text.strip())\n",
    "\n",
    "for i in range(0,20) :\n",
    "    name.append(nameList[i].text)\n",
    "    price.append(priceList[i].text.replace('원',''))\n",
    "\n",
    "gmarket_dic = {'상품명' : name,'가격' : price }\n",
    "gmarket_df = pd.DataFrame(gmarket_dic)\n",
    "\n",
    "gmarket_df"
   ]
  },
  {
   "cell_type": "code",
   "execution_count": null,
   "metadata": {},
   "outputs": [],
   "source": []
  },
  {
   "attachments": {},
   "cell_type": "markdown",
   "metadata": {},
   "source": [
    "## Question4"
   ]
  },
  {
   "cell_type": "code",
   "execution_count": 21,
   "metadata": {},
   "outputs": [],
   "source": [
    "import requests as req\n",
    "import pandas as pd  # csv 저장할때 필요하다고\n",
    "from bs4 import BeautifulSoup as bs\n",
    "\n",
    "h = {\n",
    "\"user-agent\":\"Mozilla/5.0 (Windows NT 10.0; Win64; x64) AppleWebKit/537.36 (KHTML, like Gecko) Chrome/110.0.0.0 Safari/537.36\"\n",
    "\n",
    "}"
   ]
  },
  {
   "cell_type": "code",
   "execution_count": 31,
   "metadata": {},
   "outputs": [],
   "source": [
    "melon_url = 'https://www.melon.com/chart/index.htm'\n",
    "res = req.get(melon_url, headers = h)\n",
    "\n",
    "html = bs(res.text , 'lxml')\n",
    "\n",
    "musicList = html.select('.ellipsis.rank01 a')\n",
    "vocalList = html.select('.checkEllipsis')"
   ]
  },
  {
   "cell_type": "code",
   "execution_count": 38,
   "metadata": {},
   "outputs": [],
   "source": [
    "mu = []\n",
    "vo = []\n",
    "index = 1\n",
    "for i in range(len(musicList)) :\n",
    "    mu.append(musicList[i].text.strip())\n",
    "    vo.append(vocalList[i].text.strip())\n",
    "    index +=1"
   ]
  },
  {
   "cell_type": "code",
   "execution_count": 41,
   "metadata": {},
   "outputs": [
    {
     "data": {
      "text/html": [
       "<div>\n",
       "<style scoped>\n",
       "    .dataframe tbody tr th:only-of-type {\n",
       "        vertical-align: middle;\n",
       "    }\n",
       "\n",
       "    .dataframe tbody tr th {\n",
       "        vertical-align: top;\n",
       "    }\n",
       "\n",
       "    .dataframe thead th {\n",
       "        text-align: right;\n",
       "    }\n",
       "</style>\n",
       "<table border=\"1\" class=\"dataframe\">\n",
       "  <thead>\n",
       "    <tr style=\"text-align: right;\">\n",
       "      <th></th>\n",
       "      <th>곡명</th>\n",
       "      <th>가수</th>\n",
       "    </tr>\n",
       "  </thead>\n",
       "  <tbody>\n",
       "    <tr>\n",
       "      <th>1</th>\n",
       "      <td>Ditto</td>\n",
       "      <td>NewJeans</td>\n",
       "    </tr>\n",
       "    <tr>\n",
       "      <th>2</th>\n",
       "      <td>OMG</td>\n",
       "      <td>NewJeans</td>\n",
       "    </tr>\n",
       "    <tr>\n",
       "      <th>3</th>\n",
       "      <td>Hype boy</td>\n",
       "      <td>NewJeans</td>\n",
       "    </tr>\n",
       "    <tr>\n",
       "      <th>4</th>\n",
       "      <td>파이팅 해야지 (Feat. 이영지)</td>\n",
       "      <td>부석순 (SEVENTEEN)</td>\n",
       "    </tr>\n",
       "    <tr>\n",
       "      <th>5</th>\n",
       "      <td>사건의 지평선</td>\n",
       "      <td>윤하 (YOUNHA)</td>\n",
       "    </tr>\n",
       "    <tr>\n",
       "      <th>...</th>\n",
       "      <td>...</td>\n",
       "      <td>...</td>\n",
       "    </tr>\n",
       "    <tr>\n",
       "      <th>96</th>\n",
       "      <td>Ay-Yo</td>\n",
       "      <td>NCT 127</td>\n",
       "    </tr>\n",
       "    <tr>\n",
       "      <th>97</th>\n",
       "      <td>Permission to Dance</td>\n",
       "      <td>방탄소년단</td>\n",
       "    </tr>\n",
       "    <tr>\n",
       "      <th>98</th>\n",
       "      <td>HOT</td>\n",
       "      <td>세븐틴</td>\n",
       "    </tr>\n",
       "    <tr>\n",
       "      <th>99</th>\n",
       "      <td>걸음을 멈추는 날</td>\n",
       "      <td>나얼</td>\n",
       "    </tr>\n",
       "    <tr>\n",
       "      <th>100</th>\n",
       "      <td>네버랜드를 떠나며</td>\n",
       "      <td>투모로우바이투게더</td>\n",
       "    </tr>\n",
       "  </tbody>\n",
       "</table>\n",
       "<p>100 rows × 2 columns</p>\n",
       "</div>"
      ],
      "text/plain": [
       "                      곡명               가수\n",
       "1                  Ditto         NewJeans\n",
       "2                    OMG         NewJeans\n",
       "3               Hype boy         NewJeans\n",
       "4    파이팅 해야지 (Feat. 이영지)  부석순 (SEVENTEEN)\n",
       "5                사건의 지평선      윤하 (YOUNHA)\n",
       "..                   ...              ...\n",
       "96                 Ay-Yo          NCT 127\n",
       "97   Permission to Dance            방탄소년단\n",
       "98                   HOT              세븐틴\n",
       "99             걸음을 멈추는 날               나얼\n",
       "100            네버랜드를 떠나며        투모로우바이투게더\n",
       "\n",
       "[100 rows x 2 columns]"
      ]
     },
     "execution_count": 41,
     "metadata": {},
     "output_type": "execute_result"
    }
   ],
   "source": [
    "melon_dic = { '곡명' : mu , '가수' : vo}\n",
    "data_mu = pd.DataFrame(melon_dic)\n",
    "data_mu.index = data_mu.index+1\n",
    "data_mu"
   ]
  },
  {
   "cell_type": "code",
   "execution_count": 42,
   "metadata": {},
   "outputs": [],
   "source": [
    "data_mu.to_excel('melon_top100_test.xlsx')"
   ]
  },
  {
   "cell_type": "code",
   "execution_count": null,
   "metadata": {},
   "outputs": [],
   "source": []
  },
  {
   "attachments": {},
   "cell_type": "markdown",
   "metadata": {},
   "source": [
    "## Question5"
   ]
  },
  {
   "cell_type": "code",
   "execution_count": 123,
   "metadata": {},
   "outputs": [],
   "source": [
    "import pandas as pd\n",
    "import time\n",
    "\n",
    "from selenium import webdriver as wb\n",
    "from selenium.webdriver.common.by import By\n",
    "from selenium.webdriver.common.keys import Keys"
   ]
  },
  {
   "cell_type": "code",
   "execution_count": 161,
   "metadata": {},
   "outputs": [],
   "source": [
    "naver_url = 'https://www.youtube.com/'\n",
    "driver = wb.Chrome()\n",
    "driver.get(naver_url)\n"
   ]
  },
  {
   "cell_type": "code",
   "execution_count": 163,
   "metadata": {},
   "outputs": [],
   "source": [
    "driver.find_element(By.CSS_SELECTOR ,'div>input#search' ).send_keys('애니멀봐\\n')\n"
   ]
  },
  {
   "cell_type": "code",
   "execution_count": 166,
   "metadata": {},
   "outputs": [],
   "source": [
    "driver.find_element(By.CSS_SELECTOR ,'#main-link' ).click()\n",
    "\n"
   ]
  },
  {
   "cell_type": "code",
   "execution_count": 167,
   "metadata": {},
   "outputs": [],
   "source": [
    "driver.find_element(By.CSS_SELECTOR ,'#tabsContent > tp-yt-paper-tab:nth-child(4) > div' ).click()"
   ]
  },
  {
   "cell_type": "code",
   "execution_count": 179,
   "metadata": {},
   "outputs": [
    {
     "data": {
      "text/plain": [
       "''"
      ]
     },
     "execution_count": 179,
     "metadata": {},
     "output_type": "execute_result"
    }
   ],
   "source": [
    "nameList = driver.find_elements(By.CSS_SELECTOR,'#video-title-link > yt-formatted-string#video-title')\n",
    "clickList = driver.find_elements(By.CSS_SELECTOR,'#metadata-line > span:nth-child(3)')\n",
    "nameList[0].text\n"
   ]
  },
  {
   "cell_type": "code",
   "execution_count": 170,
   "metadata": {},
   "outputs": [],
   "source": [
    "driver.find_element(By.CSS_SELECTOR,'body').send_keys(Keys.END)\n",
    "\n"
   ]
  },
  {
   "cell_type": "code",
   "execution_count": 152,
   "metadata": {},
   "outputs": [],
   "source": [
    "\n",
    "question5_title = []\n",
    "question5_click = []\n",
    "# nameList = driver.find_elements(By.CSS_SELECTOR,'#video-title > yt-formatted-string')\n",
    "driver.find_element(By.CSS_SELECTOR,'body').send_keys(Keys.END)\n",
    "\n",
    "\n",
    "for i in range(0,100) :\n",
    "    question5_title.append(nameList[i].text)\n",
    "    question5_click.append(clickList[i].text)\n"
   ]
  },
  {
   "cell_type": "code",
   "execution_count": 153,
   "metadata": {},
   "outputs": [],
   "source": [
    "dic = {\"제목\" :question5_title , \"조회수\" : question5_click}\n",
    "question5df= pd.DataFrame(dic)"
   ]
  },
  {
   "cell_type": "code",
   "execution_count": 155,
   "metadata": {},
   "outputs": [],
   "source": [
    "question5df.to_excel('question5.xlsx')"
   ]
  }
 ],
 "metadata": {
  "kernelspec": {
   "display_name": "base",
   "language": "python",
   "name": "python3"
  },
  "language_info": {
   "codemirror_mode": {
    "name": "ipython",
    "version": 3
   },
   "file_extension": ".py",
   "mimetype": "text/x-python",
   "name": "python",
   "nbconvert_exporter": "python",
   "pygments_lexer": "ipython3",
   "version": "3.9.13"
  },
  "orig_nbformat": 4
 },
 "nbformat": 4,
 "nbformat_minor": 2
}
