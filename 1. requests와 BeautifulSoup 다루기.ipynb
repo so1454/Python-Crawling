{
 "cells": [
  {
   "cell_type": "markdown",
   "metadata": {},
   "source": [
    "### requests\n",
    "- 웹 페이지의 데이터를 요청하기 위한 라이브러리\n",
    "- 데이터? -> HTML문서"
   ]
  },
  {
   "cell_type": "code",
   "execution_count": 2,
   "metadata": {},
   "outputs": [],
   "source": [
    "# 요청할 웹 페이지의 URL 주소를 변수에 저장한다.\n",
    "url = 'https://www.naver.com'   # https 라는 프로토콜이 같이 나온다"
   ]
  },
  {
   "cell_type": "code",
   "execution_count": 3,
   "metadata": {},
   "outputs": [],
   "source": [
    "# requests를 이용해서 웹페이지의 데이터를 요청한다.\n",
    "import requests as req\n"
   ]
  },
  {
   "cell_type": "code",
   "execution_count": 4,
   "metadata": {},
   "outputs": [
    {
     "data": {
      "text/plain": [
       "<Response [200]>"
      ]
     },
     "execution_count": 4,
     "metadata": {},
     "output_type": "execute_result"
    }
   ],
   "source": [
    "req.get(url)\n",
    "# 여기서 response 200이 무엇일까요?\n",
    "# HTTP 상태코드 100 ~ 500\n",
    "# 200 : 정상적으로 통신됨\n",
    "# 400, 404 : client 오류\n",
    "# 500 : server오류"
   ]
  },
  {
   "cell_type": "code",
   "execution_count": 5,
   "metadata": {},
   "outputs": [],
   "source": [
    "# 응답 받은 데이터를 변수에 저장한다.\n",
    "res = req.get(url)\n",
    "res\n",
    "\n",
    "# HTML 데이터에 접근하기! (전부 태그로 가져온다)\n",
    "\n",
    "page = res.text\n",
    "# 이 전체코드가 하나의 문자열로 되어있음\n"
   ]
  },
  {
   "cell_type": "code",
   "execution_count": 6,
   "metadata": {},
   "outputs": [
    {
     "data": {
      "text/plain": [
       "str"
      ]
     },
     "execution_count": 6,
     "metadata": {},
     "output_type": "execute_result"
    }
   ],
   "source": [
    "# 정말 문자열로 되어있는지 데이터 타입 확인하기!\n",
    "type(res.text)"
   ]
  },
  {
   "cell_type": "markdown",
   "metadata": {},
   "source": [
    "### BeautifulSoup\n",
    "- 웹 페이지를 객체로 변환해주는 라이브러리\n",
    "- 데이터를 추출하기 편한 형태로 해석해주는 라이브러리\n"
   ]
  },
  {
   "cell_type": "code",
   "execution_count": 7,
   "metadata": {},
   "outputs": [],
   "source": [
    "# bs4안에 BeautifulSoup이 들어있다. 이걸 쓸꺼다.\n",
    "from bs4 import BeautifulSoup as bs"
   ]
  },
  {
   "cell_type": "code",
   "execution_count": 8,
   "metadata": {},
   "outputs": [],
   "source": [
    "# bs(응답 받은 HTML 데이터, 해석해주는 도구)\n",
    "# --> python 객체로 변환\n",
    "# 해석해주는 도구 : lxml > html.parser > html5lib\n",
    "html= bs(page, 'lxml')"
   ]
  },
  {
   "cell_type": "code",
   "execution_count": 9,
   "metadata": {},
   "outputs": [
    {
     "data": {
      "text/plain": [
       "bs4.BeautifulSoup"
      ]
     },
     "execution_count": 9,
     "metadata": {},
     "output_type": "execute_result"
    }
   ],
   "source": [
    "type(html)"
   ]
  },
  {
   "cell_type": "code",
   "execution_count": null,
   "metadata": {},
   "outputs": [],
   "source": []
  },
  {
   "attachments": {},
   "cell_type": "markdown",
   "metadata": {},
   "source": [
    "#### CSS 선택자 종류\n",
    "1. 태그 선택자 : 태그 이름으로 특정 요소를 선택\n",
    "2. 아이디 선택자 : 특정요소를 선택 (#)\n",
    "3. 클래스 선택자 : 특정요소를 선택 (.)<br>\n",
    "4. 계층 선택자 <br>\n",
    "    4-1. 자손선택자 : 부모요소 자식요소<br>\n",
    "    4-2. 자식선택자 : 부모요소 > 자식요소<br>\n",
    "    4-3. 형제선택자 : 형제요소 ~ 형제요소<br>\n",
    "    4-4. 인접 형제선택자"
   ]
  },
  {
   "cell_type": "code",
   "execution_count": 20,
   "metadata": {},
   "outputs": [
    {
     "data": {
      "text/plain": [
       "['NAVER']"
      ]
     },
     "execution_count": 20,
     "metadata": {},
     "output_type": "execute_result"
    }
   ],
   "source": [
    "# 원하는 데이터를 추출하기!\n",
    "# select_one(CSS 선택자)  : 하나의 요소 객체를 선택\n",
    "                #  이 요소를 반환을 해준다.\n",
    "html.select_one('title')   # <title>'NAVER'<title>\n",
    "html.select_one('title').contents  # ['NAVER']\n",
    "\n",
    "\n",
    "# <title>'NAVER'<title> 왜 이렇게 안나오지?\n"
   ]
  },
  {
   "cell_type": "code",
   "execution_count": null,
   "metadata": {},
   "outputs": [],
   "source": []
  },
  {
   "cell_type": "code",
   "execution_count": 12,
   "metadata": {},
   "outputs": [
    {
     "data": {
      "text/plain": [
       "'NAVER'"
      ]
     },
     "execution_count": 12,
     "metadata": {},
     "output_type": "execute_result"
    }
   ],
   "source": [
    "# text 속성 : 요소의 컨텐츠(내용)을 가져온다!\n",
    "html.select_one('title').text"
   ]
  },
  {
   "cell_type": "code",
   "execution_count": 13,
   "metadata": {},
   "outputs": [
    {
     "data": {
      "text/plain": [
       "bs4.element.Tag"
      ]
     },
     "execution_count": 13,
     "metadata": {},
     "output_type": "execute_result"
    }
   ],
   "source": [
    "type(html.select_one('title'))"
   ]
  },
  {
   "cell_type": "code",
   "execution_count": 14,
   "metadata": {},
   "outputs": [],
   "source": [
    "# 네비게이션에 해당하는 부분에 접근 해볼 것이다"
   ]
  },
  {
   "cell_type": "code",
   "execution_count": 15,
   "metadata": {},
   "outputs": [],
   "source": [
    "# 1. 네이버 메뉴 가져오기\n",
    "# select (css선택자) --> css선택자 조건에 맞는 요소들을 선택\n",
    "#  --> list 형태로 변환\n",
    "menuList = html.select('.nav_item')\n",
    "            #  여기서 nav_item은 네이버에서 개발자도구로 확인해보고 불러온거임"
   ]
  },
  {
   "cell_type": "code",
   "execution_count": 16,
   "metadata": {},
   "outputs": [
    {
     "data": {
      "text/plain": [
       "bs4.element.ResultSet"
      ]
     },
     "execution_count": 16,
     "metadata": {},
     "output_type": "execute_result"
    }
   ],
   "source": [
    "# 여기서 나오는 ResultSet은\n",
    "type(html.select('.nav_item'))"
   ]
  },
  {
   "cell_type": "code",
   "execution_count": 17,
   "metadata": {},
   "outputs": [
    {
     "data": {
      "text/plain": [
       "'\\n메일\\n'"
      ]
     },
     "execution_count": 17,
     "metadata": {},
     "output_type": "execute_result"
    }
   ],
   "source": [
    "# 태그빼고 메뉴만 선택할때 그냥 text만 붙혀주면 오류남\n",
    "# 왜? list타입은 text 속성이 존재하지 않기때문에\n",
    "# 인덱스로 리스트 내 아이템을 접근해서 text 속성을 사용해야한다.\n",
    "\n",
    "menuList[0].text"
   ]
  },
  {
   "cell_type": "code",
   "execution_count": 18,
   "metadata": {},
   "outputs": [
    {
     "name": "stdout",
     "output_type": "stream",
     "text": [
      "메일\n",
      "카페\n",
      "블로그\n",
      "지식iN\n",
      "쇼핑\n",
      "쇼핑LIVE\n",
      "Pay\n",
      "TV\n",
      "사전\n",
      "뉴스\n",
      "증권\n",
      "부동산\n",
      "지도\n",
      "VIBE\n",
      "도서\n",
      "웹툰\n"
     ]
    }
   ],
   "source": [
    "# 여러개를 불러와주려면 반복문이 필요함\n",
    "# 1. 리스트의 길이를 활용한 for문\n",
    "\n",
    "for i in range(len(menuList)) :\n",
    "    print(menuList[i].text.strip())  # text를 붙혀줘야지 태그가 떼어짐\n",
    "                                        # strip은 공백 떼주는 친구"
   ]
  },
  {
   "cell_type": "code",
   "execution_count": 19,
   "metadata": {},
   "outputs": [
    {
     "name": "stdout",
     "output_type": "stream",
     "text": [
      "메일\n",
      "카페\n",
      "블로그\n",
      "지식iN\n",
      "쇼핑\n",
      "쇼핑LIVE\n",
      "Pay\n",
      "TV\n",
      "사전\n",
      "뉴스\n",
      "증권\n",
      "부동산\n",
      "지도\n",
      "VIBE\n",
      "도서\n",
      "웹툰\n"
     ]
    }
   ],
   "source": [
    "# 2. 리스트를 활용한 for문(인덱스 활용X)\n",
    "for menu in menuList :\n",
    "    print(menu.text.strip())\n"
   ]
  },
  {
   "cell_type": "code",
   "execution_count": null,
   "metadata": {},
   "outputs": [],
   "source": []
  },
  {
   "cell_type": "code",
   "execution_count": null,
   "metadata": {},
   "outputs": [],
   "source": []
  },
  {
   "cell_type": "code",
   "execution_count": null,
   "metadata": {},
   "outputs": [],
   "source": []
  },
  {
   "cell_type": "code",
   "execution_count": null,
   "metadata": {},
   "outputs": [],
   "source": []
  }
 ],
 "metadata": {
  "kernelspec": {
   "display_name": "Python 3 (ipykernel)",
   "language": "python",
   "name": "python3"
  },
  "language_info": {
   "codemirror_mode": {
    "name": "ipython",
    "version": 3
   },
   "file_extension": ".py",
   "mimetype": "text/x-python",
   "name": "python",
   "nbconvert_exporter": "python",
   "pygments_lexer": "ipython3",
   "version": "3.11.2"
  },
  "vscode": {
   "interpreter": {
    "hash": "8d29ec00ae0add0190cce9c6bb44028ed64b4cb4a58b5f5c12e34c6897e75494"
   }
  }
 },
 "nbformat": 4,
 "nbformat_minor": 2
}
