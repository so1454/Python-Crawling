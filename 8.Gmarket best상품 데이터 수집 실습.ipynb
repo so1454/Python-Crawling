{
 "cells": [
  {
   "attachments": {},
   "cell_type": "markdown",
   "metadata": {},
   "source": [
    "### G마켓 베스트 상품 데이터 수집\n",
    "1. 상품명, 가격수집\n",
    "2. 수집한 정보를 엑셀파일로 저장<br>\n",
    "출력예시\n",
    "![image.png](attachment:image.png)"
   ]
  },
  {
   "cell_type": "code",
   "execution_count": 1,
   "metadata": {},
   "outputs": [],
   "source": [
    "import pandas as pd    # 엑셀 저장시 필요\n",
    "import time\n",
    "\n",
    "from selenium import webdriver as wb\n",
    "from selenium.webdriver.common.by import By\n",
    "from selenium.webdriver.common.keys import Keys"
   ]
  },
  {
   "cell_type": "code",
   "execution_count": 2,
   "metadata": {},
   "outputs": [],
   "source": [
    "hsd_url = 'https://corners.gmarket.co.kr/bestsellers'\n",
    "driver = wb.Chrome()\n",
    "driver.get(hsd_url)"
   ]
  },
  {
   "cell_type": "code",
   "execution_count": 3,
   "metadata": {},
   "outputs": [
    {
     "data": {
      "text/plain": [
       "200"
      ]
     },
     "execution_count": 3,
     "metadata": {},
     "output_type": "execute_result"
    }
   ],
   "source": [
    "nameList = driver.find_elements(By.CSS_SELECTOR,'.itemname')\n",
    "len(nameList)   #내가 가져온것만 가지고 온건지 길이 수 확인"
   ]
  },
  {
   "cell_type": "code",
   "execution_count": 4,
   "metadata": {},
   "outputs": [
    {
     "data": {
      "text/plain": [
       "200"
      ]
     },
     "execution_count": 4,
     "metadata": {},
     "output_type": "execute_result"
    }
   ],
   "source": [
    "# 할인 가격을 가져와야함\n",
    "priceList = driver.find_elements(By.CSS_SELECTOR,'.for-a11y+strong > span')\n",
    "len(priceList)\n"
   ]
  },
  {
   "cell_type": "code",
   "execution_count": 5,
   "metadata": {},
   "outputs": [],
   "source": [
    "name = []\n",
    "price = []\n",
    "\n",
    "for i in nameList :\n",
    "    name.append(i.text)\n",
    "\n",
    "for i in priceList :\n",
    "    price.append(i.text.replace('원',''))\n",
    "\n"
   ]
  },
  {
   "cell_type": "code",
   "execution_count": 6,
   "metadata": {},
   "outputs": [],
   "source": [
    "gmarket_dic = {'상품명' : name,'가격' : price }\n",
    "gmarket_df = pd.DataFrame(gmarket_dic)"
   ]
  },
  {
   "cell_type": "code",
   "execution_count": 7,
   "metadata": {},
   "outputs": [],
   "source": [
    "gmarket_df.to_excel('gmarket.xlsx')"
   ]
  },
  {
   "cell_type": "code",
   "execution_count": 29,
   "metadata": {},
   "outputs": [
    {
     "data": {
      "text/plain": [
       "'패션의류'"
      ]
     },
     "execution_count": 29,
     "metadata": {},
     "output_type": "execute_result"
    }
   ],
   "source": [
    "\n",
    "cateList = driver.find_elements(By.CSS_SELECTOR,'#categoryTabG > li >a')\n",
    "\n",
    "cateList[1].text\n"
   ]
  },
  {
   "cell_type": "code",
   "execution_count": 37,
   "metadata": {},
   "outputs": [
    {
     "name": "stdout",
     "output_type": "stream",
     "text": [
      "0\n",
      "1\n",
      "2\n",
      "3\n",
      "4\n",
      "5\n",
      "6\n",
      "7\n",
      "8\n",
      "9\n",
      "10\n",
      "11\n"
     ]
    }
   ],
   "source": [
    "name2 = []\n",
    "price2 = []\n",
    "categori = []\n",
    "\n",
    "for i in range(12) :\n",
    "    print(i)\n",
    "\n",
    "    # 카테고리도 데이터에 넣어주기!\n",
    "\n",
    "    \n",
    "    # click()으로 페이지가 넘어가기 전에 그룹 데이터를 변수에 저장\n",
    "    # 각 상품에 그룹데이터를 매핑하기 위한 데이터\n",
    "    cateList = driver.find_elements(By.CSS_SELECTOR,'#categoryTabG > li >a')\n",
    "    groupNm = cateList[i].text\n",
    "\n",
    "    driver.find_element(By.CSS_SELECTOR, f'#categoryTabG > li.group{i+1}').click()\n",
    "    time.sleep(1)\n",
    "    nameList = driver.find_elements(By.CSS_SELECTOR,'.itemname')\n",
    "    priceList = driver.find_elements(By.CSS_SELECTOR,'.for-a11y+strong > span')\n",
    "\n",
    "    for a in nameList :\n",
    "        name2.append(a.text)\n",
    "\n",
    "    for b in priceList :\n",
    "        price2.append(b.text.replace('원',''))\n",
    "\n",
    "    # 각 카테고리 별 (12개의 카테고리도 수집해옴)\n",
    "    for c in range(len(priceList)) : \n",
    "        # 위에서  groupNm에 12개의 카테고리를 저장해줬음/ 그리고 이 12개의 카테고리를 해당하는 상품과 연결해줘야하니까\n",
    "        # 상품만큼 카테고리도 함께 출력한다!\n",
    "        categori.append(groupNm)\n",
    "\n",
    "\n"
   ]
  },
  {
   "cell_type": "code",
   "execution_count": 38,
   "metadata": {},
   "outputs": [],
   "source": [
    "gmarket_dic2 = {'상품명' : name2 ,'가격' : price2,'카테고리' : categori }\n",
    "gmarket_df2 = pd.DataFrame(gmarket_dic2)\n"
   ]
  },
  {
   "cell_type": "code",
   "execution_count": 40,
   "metadata": {},
   "outputs": [],
   "source": [
    "gmarket_df2.to_excel('all_data_gmarket.xlsx')"
   ]
  },
  {
   "cell_type": "code",
   "execution_count": null,
   "metadata": {},
   "outputs": [],
   "source": []
  },
  {
   "cell_type": "code",
   "execution_count": null,
   "metadata": {},
   "outputs": [],
   "source": []
  },
  {
   "cell_type": "code",
   "execution_count": null,
   "metadata": {},
   "outputs": [],
   "source": []
  },
  {
   "cell_type": "code",
   "execution_count": null,
   "metadata": {},
   "outputs": [],
   "source": []
  },
  {
   "cell_type": "code",
   "execution_count": null,
   "metadata": {},
   "outputs": [],
   "source": []
  },
  {
   "cell_type": "code",
   "execution_count": null,
   "metadata": {},
   "outputs": [],
   "source": []
  }
 ],
 "metadata": {
  "kernelspec": {
   "display_name": "base",
   "language": "python",
   "name": "python3"
  },
  "language_info": {
   "codemirror_mode": {
    "name": "ipython",
    "version": 3
   },
   "file_extension": ".py",
   "mimetype": "text/x-python",
   "name": "python",
   "nbconvert_exporter": "python",
   "pygments_lexer": "ipython3",
   "version": "3.9.13"
  },
  "orig_nbformat": 4,
  "vscode": {
   "interpreter": {
    "hash": "3d897ffbc13b5710e71e9fb36eb41d8dd58a75d8f4bd294893ab0962f9ec9b14"
   }
  }
 },
 "nbformat": 4,
 "nbformat_minor": 2
}
