{
 "cells": [
  {
   "attachments": {},
   "cell_type": "markdown",
   "metadata": {},
   "source": [
    "### G마켓 베스트 상품 데이터 수집\n",
    "1. 상품명, 가격수집\n",
    "2. 수집한 정보를 엑셀파일로 저장<br>\n",
    "출력예시\n",
    "![image.png](attachment:image.png)"
   ]
  },
  {
   "cell_type": "code",
   "execution_count": 67,
   "metadata": {},
   "outputs": [],
   "source": [
    "import pandas as pd    # 엑셀 저장시 필요\n",
    "import time\n",
    "\n",
    "from selenium import webdriver as wb\n",
    "from selenium.webdriver.common.by import By\n",
    "from selenium.webdriver.common.keys import Keys"
   ]
  },
  {
   "cell_type": "code",
   "execution_count": 68,
   "metadata": {},
   "outputs": [],
   "source": [
    "hsd_url = 'https://corners.gmarket.co.kr/bestsellers'\n",
    "driver = wb.Chrome()\n",
    "driver.get(hsd_url)"
   ]
  },
  {
   "cell_type": "code",
   "execution_count": 53,
   "metadata": {},
   "outputs": [
    {
     "data": {
      "text/plain": [
       "100"
      ]
     },
     "execution_count": 53,
     "metadata": {},
     "output_type": "execute_result"
    }
   ],
   "source": [
    "nameList = driver.find_elements(By.CSS_SELECTOR,'.itemname')\n",
    "len(nameList)   #내가 가져온것만 가지고 온건지 길이 수 확인"
   ]
  },
  {
   "cell_type": "code",
   "execution_count": 54,
   "metadata": {},
   "outputs": [
    {
     "data": {
      "text/plain": [
       "100"
      ]
     },
     "execution_count": 54,
     "metadata": {},
     "output_type": "execute_result"
    }
   ],
   "source": [
    "# 할인 가격을 가져와야함\n",
    "priceList = driver.find_elements(By.CSS_SELECTOR,'.for-a11y+strong > span')\n",
    "len(priceList)\n"
   ]
  },
  {
   "cell_type": "code",
   "execution_count": 55,
   "metadata": {},
   "outputs": [],
   "source": [
    "name = []\n",
    "price = []\n",
    "\n",
    "for i in nameList :\n",
    "    name.append(i.text)\n",
    "\n",
    "for i in priceList :\n",
    "    price.append(i.text.replace('원',''))\n",
    "\n"
   ]
  },
  {
   "cell_type": "code",
   "execution_count": 56,
   "metadata": {},
   "outputs": [],
   "source": [
    "gmarket_dic = {'상품명' : name,'가격' : price }\n",
    "gmarket_df = pd.DataFrame(gmarket_dic)"
   ]
  },
  {
   "cell_type": "code",
   "execution_count": 63,
   "metadata": {},
   "outputs": [],
   "source": [
    "gmarket_df.to_excel('gmarket.xlsx')"
   ]
  },
  {
   "cell_type": "code",
   "execution_count": 74,
   "metadata": {},
   "outputs": [
    {
     "name": "stdout",
     "output_type": "stream",
     "text": [
      "0\n",
      "1\n",
      "2\n",
      "3\n",
      "4\n",
      "5\n",
      "6\n",
      "7\n",
      "8\n",
      "9\n",
      "10\n",
      "11\n"
     ]
    }
   ],
   "source": [
    "name2 = []\n",
    "price2 = []\n",
    "\n",
    "for i in range(12) :\n",
    "    print(i)\n",
    "    driver.find_element(By.CSS_SELECTOR, f'#categoryTabG > li.group{i+1}').click()\n",
    "    time.sleep(1)\n",
    "    nameList = driver.find_elements(By.CSS_SELECTOR,'.itemname')\n",
    "    priceList = driver.find_elements(By.CSS_SELECTOR,'.for-a11y+strong > span')\n",
    "    \n",
    "    for a in nameList :\n",
    "        name2.append(a.text)\n",
    "\n",
    "    for b in priceList :\n",
    "        price2.append(b.text.replace('원',''))\n",
    "\n"
   ]
  },
  {
   "cell_type": "code",
   "execution_count": 75,
   "metadata": {},
   "outputs": [],
   "source": [
    "gmarket_dic2 = {'상품명' : name2 ,'가격' : price2 }\n",
    "gmarket_df2 = pd.DataFrame(gmarket_dic2)\n"
   ]
  },
  {
   "cell_type": "code",
   "execution_count": 76,
   "metadata": {},
   "outputs": [],
   "source": [
    "gmarket_df2.to_excel('all_data_gmarket.xlsx')"
   ]
  },
  {
   "cell_type": "code",
   "execution_count": null,
   "metadata": {},
   "outputs": [],
   "source": []
  },
  {
   "cell_type": "code",
   "execution_count": null,
   "metadata": {},
   "outputs": [],
   "source": []
  },
  {
   "cell_type": "code",
   "execution_count": null,
   "metadata": {},
   "outputs": [],
   "source": []
  },
  {
   "cell_type": "code",
   "execution_count": null,
   "metadata": {},
   "outputs": [],
   "source": []
  },
  {
   "cell_type": "code",
   "execution_count": null,
   "metadata": {},
   "outputs": [],
   "source": []
  },
  {
   "cell_type": "code",
   "execution_count": null,
   "metadata": {},
   "outputs": [],
   "source": []
  }
 ],
 "metadata": {
  "kernelspec": {
   "display_name": "base",
   "language": "python",
   "name": "python3"
  },
  "language_info": {
   "codemirror_mode": {
    "name": "ipython",
    "version": 3
   },
   "file_extension": ".py",
   "mimetype": "text/x-python",
   "name": "python",
   "nbconvert_exporter": "python",
   "pygments_lexer": "ipython3",
   "version": "3.9.13"
  },
  "orig_nbformat": 4,
  "vscode": {
   "interpreter": {
    "hash": "3d897ffbc13b5710e71e9fb36eb41d8dd58a75d8f4bd294893ab0962f9ec9b14"
   }
  }
 },
 "nbformat": 4,
 "nbformat_minor": 2
}
