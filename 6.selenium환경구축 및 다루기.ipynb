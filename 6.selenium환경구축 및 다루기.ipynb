{
 "cells": [
  {
   "attachments": {},
   "cell_type": "markdown",
   "metadata": {},
   "source": [
    "들어가는말<br>\n",
    "멜론 좋아요수는 실시간으로 받아오는거니까 가져오는게 힘듬\n",
    "그래서 셀리니움을 사용해서 동적인 페이지를 가져올 수 있음(이제까진 정적인 페이지를 가져옴)<br>\n",
    "내가 클릭을 하면 나오는것을 셀레니움에서 자동으로 클릭해주는 행동을 해줘서 동적인 것을 받아올 수 있게 만들어줌\n"
   ]
  },
  {
   "attachments": {},
   "cell_type": "markdown",
   "metadata": {},
   "source": [
    "1. webdriver검색 후 가장 첫번째 나오는거 들어가기\n",
    "2. 크롬 브라우저 - 설정 - chrome://settings/help (버전확인)\n",
    "3. 버전에 맞는거 설치"
   ]
  },
  {
   "attachments": {},
   "cell_type": "markdown",
   "metadata": {},
   "source": [
    "## Selenium\n",
    "- 동적인 웹페이지의 컨텐츠를 수집하기 위한 도구\n",
    "- 웹 브라우저를 제어(클릭, 입력, 스크롤, 창 전환)하기 위한 도구\n",
    "- 환경구축하기\n",
    "1. webdriver 프로그램 다운로드 받기(압축을 푼 파일을 현재 폴더에 옮겨주기)\n",
    "2. !pip install selenium 패키지 설치하기"
   ]
  },
  {
   "cell_type": "code",
   "execution_count": 2,
   "metadata": {},
   "outputs": [
    {
     "name": "stdout",
     "output_type": "stream",
     "text": [
      "Requirement already satisfied: selenium in c:\\users\\smhrd\\anaconda3\\lib\\site-packages (4.8.2)\n",
      "Requirement already satisfied: trio~=0.17 in c:\\users\\smhrd\\anaconda3\\lib\\site-packages (from selenium) (0.22.0)\n",
      "Requirement already satisfied: urllib3[socks]~=1.26 in c:\\users\\smhrd\\anaconda3\\lib\\site-packages (from selenium) (1.26.11)\n",
      "Requirement already satisfied: trio-websocket~=0.9 in c:\\users\\smhrd\\anaconda3\\lib\\site-packages (from selenium) (0.9.2)\n",
      "Requirement already satisfied: certifi>=2021.10.8 in c:\\users\\smhrd\\anaconda3\\lib\\site-packages (from selenium) (2022.9.14)\n",
      "Requirement already satisfied: sortedcontainers in c:\\users\\smhrd\\anaconda3\\lib\\site-packages (from trio~=0.17->selenium) (2.4.0)\n",
      "Requirement already satisfied: sniffio in c:\\users\\smhrd\\anaconda3\\lib\\site-packages (from trio~=0.17->selenium) (1.2.0)\n",
      "Requirement already satisfied: exceptiongroup>=1.0.0rc9 in c:\\users\\smhrd\\anaconda3\\lib\\site-packages (from trio~=0.17->selenium) (1.1.0)\n",
      "Requirement already satisfied: cffi>=1.14 in c:\\users\\smhrd\\anaconda3\\lib\\site-packages (from trio~=0.17->selenium) (1.15.1)\n",
      "Requirement already satisfied: async-generator>=1.9 in c:\\users\\smhrd\\anaconda3\\lib\\site-packages (from trio~=0.17->selenium) (1.10)\n",
      "Requirement already satisfied: attrs>=19.2.0 in c:\\users\\smhrd\\anaconda3\\lib\\site-packages (from trio~=0.17->selenium) (21.4.0)\n",
      "Requirement already satisfied: idna in c:\\users\\smhrd\\anaconda3\\lib\\site-packages (from trio~=0.17->selenium) (3.3)\n",
      "Requirement already satisfied: outcome in c:\\users\\smhrd\\anaconda3\\lib\\site-packages (from trio~=0.17->selenium) (1.2.0)\n",
      "Requirement already satisfied: wsproto>=0.14 in c:\\users\\smhrd\\anaconda3\\lib\\site-packages (from trio-websocket~=0.9->selenium) (1.2.0)\n",
      "Requirement already satisfied: PySocks!=1.5.7,<2.0,>=1.5.6 in c:\\users\\smhrd\\anaconda3\\lib\\site-packages (from urllib3[socks]~=1.26->selenium) (1.7.1)\n",
      "Requirement already satisfied: pycparser in c:\\users\\smhrd\\anaconda3\\lib\\site-packages (from cffi>=1.14->trio~=0.17->selenium) (2.21)\n",
      "Requirement already satisfied: h11<1,>=0.9.0 in c:\\users\\smhrd\\anaconda3\\lib\\site-packages (from wsproto>=0.14->trio-websocket~=0.9->selenium) (0.14.0)\n",
      "Note: you may need to restart the kernel to use updated packages.\n"
     ]
    }
   ],
   "source": [
    "%pip install selenium"
   ]
  },
  {
   "cell_type": "code",
   "execution_count": 23,
   "metadata": {},
   "outputs": [],
   "source": [
    "# 테스트 브라우저를 실행하기 위한 도구\n",
    "from selenium import webdriver as wb\n",
    "# 요소를 접근하기 위한 도구\n",
    "from selenium.webdriver.common.by import By\n",
    "# 키보드 값을 제공해주는 도구\n",
    "from selenium.webdriver.common.keys import Keys"
   ]
  },
  {
   "cell_type": "code",
   "execution_count": 6,
   "metadata": {},
   "outputs": [],
   "source": [
    "# 1. 웹페이지에 띄울 URL 주소 생성하기\n",
    "url = 'http://www.naver.com'\n",
    "\n",
    "# 2. webdriver.exe 파일을 실행하기 위한 객체를 생성하기\n",
    "driver = wb.Chrome()\n",
    "\n",
    "# 3. 브라우저 실행하기\n",
    "driver.get(url)"
   ]
  },
  {
   "cell_type": "code",
   "execution_count": 5,
   "metadata": {},
   "outputs": [],
   "source": [
    "# 4.브라우저 닫아주는 함수\n",
    "# 원하는 정보 혹은 동작을 다했을 때 브라우저 닫기!\n",
    "# 브라우저가 종료된 상태에서 코드를 실행하려고 하면 오류 발생\n",
    "driver.close()\n",
    "\n",
    "\n",
    "# 제어는 다음주에,, "
   ]
  },
  {
   "attachments": {},
   "cell_type": "markdown",
   "metadata": {},
   "source": [
    "2023-02-27(저번주 한거 복습)\n",
    "1. 웹크롤링 : 웹 페이지에서 원하는 정보를 추출하는 기술 \n",
    "\n",
    "2. 알아둬아할 지식 : 구조 (HTML), 어떻게(CSS 선택자)\n",
    "    --> 선택자 : 아이디선택자, 클래스 선택자, 태그선택자, 계층 선택자\n",
    "\n",
    "3. 웹크롤링을 위한 도구 : requests(페이지 정보 가져오기), \n",
    "BeautifulSoup(하나로 통짜로 되어있는 HTML을 하나하나의 파이썬 객체로 바꿔주는거) --> select_one(), select()를 이용해서 정보를 가진 요소 선택\n",
    "--> header속성중 user-agent속성을 요청할때 같이 보내줘야함\n",
    "\n",
    "4. 네이버 뉴스페이지/ 멜론차트 수집도 해봄 / 저장도 해봄/ 페이지 이동하면서 데이터 수집도해봄 \n",
    "\n",
    "    데이터 수집할때 페이지 이동시 중요한거\n",
    "url주소 변화-> 값에 대한 패턴 파악\n",
    "ex) 날짜, 페이지 번호\n",
    "\n",
    "    실행시간에 대한 딜레이를 적절하게 적용해줘야함\n",
    "import time 도구 이용 --> time.sleep(초단위)\n",
    "why? 요청할 서버의 영향을 주지 않게 하기 위함\n",
    "\n",
    "5. 동적인 웹페이지의 컨텐츠를 수집하기 위한 도구 : Selenium"
   ]
  },
  {
   "attachments": {},
   "cell_type": "markdown",
   "metadata": {},
   "source": [
    "2023-02-27 시작"
   ]
  },
  {
   "cell_type": "code",
   "execution_count": 8,
   "metadata": {},
   "outputs": [
    {
     "data": {
      "text/plain": [
       "<selenium.webdriver.remote.webelement.WebElement (session=\"d153214598e4c373519d8c386c8f6166\", element=\"aa3dec9a-467d-4d69-a2cc-d8b60a1721e5\")>"
      ]
     },
     "execution_count": 8,
     "metadata": {},
     "output_type": "execute_result"
    }
   ],
   "source": [
    "# 브라우저가 켜진 상태에서 이용해야함(브라우저 꺼진 상태에서는 안됨)\n",
    "# id 가 query인것의 태그를 찾을 것이다.\n",
    "# driver.find_element() : 특정 요소를 접근하는 함수\n",
    "driver.find_element(by ='id' ,value = 'query' )"
   ]
  },
  {
   "cell_type": "code",
   "execution_count": 11,
   "metadata": {},
   "outputs": [],
   "source": [
    "# .send_keys('문자') 입력하기\n",
    "# \\n은 엔터와 같은 역할(페이지를 넘어가서 검색할 수 있게해줌)\n",
    "driver.find_element(by ='id' ,value = 'query' ).send_keys('점심메뉴추천\\n')"
   ]
  },
  {
   "cell_type": "code",
   "execution_count": null,
   "metadata": {},
   "outputs": [],
   "source": []
  },
  {
   "cell_type": "code",
   "execution_count": null,
   "metadata": {},
   "outputs": [],
   "source": []
  },
  {
   "cell_type": "code",
   "execution_count": 25,
   "metadata": {},
   "outputs": [],
   "source": [
    "# 뒤로가기 .back()\n",
    "# 앞으로가기 .forward()\n",
    "driver.back()"
   ]
  },
  {
   "cell_type": "code",
   "execution_count": 20,
   "metadata": {},
   "outputs": [],
   "source": [
    "# 검색창에 키워드 입력한 후 검색 버튼 클릭하기\n",
    "\n",
    "driver.find_element(by ='id' ,value = 'query' ).send_keys('점심메뉴추천')\n"
   ]
  },
  {
   "cell_type": "code",
   "execution_count": 21,
   "metadata": {},
   "outputs": [],
   "source": [
    "# 검색버튼 요소에 접근하기!\n",
    "# 그냥 value / by 안적어줘도 됨\n",
    "driver.find_element('id' ,'search_btn').click() \n",
    "# 1. back / 2. find_element/ 3. click 순서대로하면 내가 적은게 검색이 됨"
   ]
  },
  {
   "cell_type": "code",
   "execution_count": 24,
   "metadata": {},
   "outputs": [],
   "source": [
    "# By 도구를 이용해서 검색버튼 요소에 접근하기\n",
    "driver.find_element(By.CSS_SELECTOR ,'#search_btn').click() "
   ]
  },
  {
   "cell_type": "code",
   "execution_count": 32,
   "metadata": {},
   "outputs": [],
   "source": [
    "# 웹 페이지 스크롤 제어하기!\n",
    "# send_keys() : 입력태그에 값을 보내거나 페이지 자체에 키보드 값을 입력할 때 사용하는 함수\n",
    "# 스크롤 제어키 : .HOME , .END/ .PAGE_DOWN, .PAGE_UP/.ARROW_DOWN(천천히 down),.ARROW_UP / SPACE\n",
    "driver.find_element(By.CSS_SELECTOR,'body').send_keys(Keys.ARROW_DOWN)\n"
   ]
  },
  {
   "cell_type": "code",
   "execution_count": null,
   "metadata": {},
   "outputs": [],
   "source": []
  },
  {
   "cell_type": "code",
   "execution_count": null,
   "metadata": {},
   "outputs": [],
   "source": []
  },
  {
   "cell_type": "code",
   "execution_count": null,
   "metadata": {},
   "outputs": [],
   "source": []
  },
  {
   "cell_type": "code",
   "execution_count": null,
   "metadata": {},
   "outputs": [],
   "source": []
  },
  {
   "cell_type": "code",
   "execution_count": null,
   "metadata": {},
   "outputs": [],
   "source": []
  },
  {
   "cell_type": "code",
   "execution_count": null,
   "metadata": {},
   "outputs": [],
   "source": []
  },
  {
   "cell_type": "code",
   "execution_count": null,
   "metadata": {},
   "outputs": [],
   "source": []
  },
  {
   "cell_type": "code",
   "execution_count": null,
   "metadata": {},
   "outputs": [],
   "source": []
  },
  {
   "cell_type": "code",
   "execution_count": null,
   "metadata": {},
   "outputs": [],
   "source": []
  },
  {
   "cell_type": "code",
   "execution_count": null,
   "metadata": {},
   "outputs": [],
   "source": []
  },
  {
   "cell_type": "code",
   "execution_count": null,
   "metadata": {},
   "outputs": [],
   "source": []
  },
  {
   "cell_type": "code",
   "execution_count": null,
   "metadata": {},
   "outputs": [],
   "source": []
  },
  {
   "cell_type": "code",
   "execution_count": null,
   "metadata": {},
   "outputs": [],
   "source": []
  },
  {
   "cell_type": "code",
   "execution_count": null,
   "metadata": {},
   "outputs": [],
   "source": []
  },
  {
   "cell_type": "code",
   "execution_count": null,
   "metadata": {},
   "outputs": [],
   "source": []
  }
 ],
 "metadata": {
  "kernelspec": {
   "display_name": "base",
   "language": "python",
   "name": "python3"
  },
  "language_info": {
   "codemirror_mode": {
    "name": "ipython",
    "version": 3
   },
   "file_extension": ".py",
   "mimetype": "text/x-python",
   "name": "python",
   "nbconvert_exporter": "python",
   "pygments_lexer": "ipython3",
   "version": "3.9.13"
  },
  "orig_nbformat": 4,
  "vscode": {
   "interpreter": {
    "hash": "3d897ffbc13b5710e71e9fb36eb41d8dd58a75d8f4bd294893ab0962f9ec9b14"
   }
  }
 },
 "nbformat": 4,
 "nbformat_minor": 2
}
